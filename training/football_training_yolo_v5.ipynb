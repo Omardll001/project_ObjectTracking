{
 "cells": [
  {
   "cell_type": "code",
   "execution_count": 1,
   "metadata": {},
   "outputs": [
    {
     "name": "stderr",
     "output_type": "stream",
     "text": [
      "ERROR: Could not find a version that satisfies the requirement robooflow (from versions: none)\n",
      "ERROR: No matching distribution found for robooflow\n",
      "\n",
      "[notice] A new release of pip is available: 24.0 -> 24.1\n",
      "[notice] To update, run: python.exe -m pip install --upgrade pip\n"
     ]
    }
   ],
   "source": [
    "!pip install robooflow"
   ]
  },
  {
   "cell_type": "code",
   "execution_count": 3,
   "metadata": {},
   "outputs": [
    {
     "name": "stdout",
     "output_type": "stream",
     "text": [
      "Requirement already satisfied: pip in c:\\users\\gubra\\appdata\\local\\programs\\python\\python312\\lib\\site-packages (24.0)\n",
      "Collecting pip\n",
      "  Downloading pip-24.1.1-py3-none-any.whl.metadata (3.6 kB)\n",
      "Downloading pip-24.1.1-py3-none-any.whl (1.8 MB)\n",
      "   ---------------------------------------- 0.0/1.8 MB ? eta -:--:--\n",
      "   ---------------------------------------- 0.0/1.8 MB ? eta -:--:--\n",
      "   ---------------------------------------- 0.0/1.8 MB ? eta -:--:--\n",
      "    --------------------------------------- 0.0/1.8 MB 435.7 kB/s eta 0:00:05\n",
      "   - -------------------------------------- 0.1/1.8 MB 365.7 kB/s eta 0:00:05\n",
      "   -- ------------------------------------- 0.1/1.8 MB 438.1 kB/s eta 0:00:04\n",
      "   --- ------------------------------------ 0.2/1.8 MB 701.4 kB/s eta 0:00:03\n",
      "   -------- ------------------------------- 0.4/1.8 MB 1.4 MB/s eta 0:00:02\n",
      "   --------------------- ------------------ 1.0/1.8 MB 2.9 MB/s eta 0:00:01\n",
      "   ---------------------------------------  1.8/1.8 MB 5.0 MB/s eta 0:00:01\n",
      "   ---------------------------------------- 1.8/1.8 MB 4.5 MB/s eta 0:00:00\n"
     ]
    },
    {
     "name": "stderr",
     "output_type": "stream",
     "text": [
      "ERROR: To modify pip, please run the following command:\n",
      "C:\\Users\\gubra\\AppData\\Local\\Programs\\Python\\Python312\\python.exe -m pip install --upgrade pip\n",
      "\n",
      "[notice] A new release of pip is available: 24.0 -> 24.1\n",
      "[notice] To update, run: python.exe -m pip install --upgrade pip\n"
     ]
    }
   ],
   "source": [
    "!pip install --upgrade pip"
   ]
  },
  {
   "cell_type": "code",
   "execution_count": 4,
   "metadata": {},
   "outputs": [
    {
     "name": "stdout",
     "output_type": "stream",
     "text": [
      "Collecting roboflow\n",
      "  Downloading roboflow-1.1.33-py3-none-any.whl.metadata (9.2 kB)\n",
      "Requirement already satisfied: certifi in c:\\users\\gubra\\appdata\\local\\programs\\python\\python312\\lib\\site-packages (from roboflow) (2024.6.2)\n",
      "Collecting chardet==4.0.0 (from roboflow)\n",
      "  Downloading chardet-4.0.0-py2.py3-none-any.whl.metadata (3.5 kB)\n",
      "Requirement already satisfied: idna==3.7 in c:\\users\\gubra\\appdata\\local\\programs\\python\\python312\\lib\\site-packages (from roboflow) (3.7)\n",
      "Requirement already satisfied: cycler in c:\\users\\gubra\\appdata\\local\\programs\\python\\python312\\lib\\site-packages (from roboflow) (0.12.1)\n",
      "Requirement already satisfied: kiwisolver>=1.3.1 in c:\\users\\gubra\\appdata\\local\\programs\\python\\python312\\lib\\site-packages (from roboflow) (1.4.5)\n",
      "Requirement already satisfied: matplotlib in c:\\users\\gubra\\appdata\\local\\programs\\python\\python312\\lib\\site-packages (from roboflow) (3.8.4)\n",
      "Requirement already satisfied: numpy>=1.18.5 in c:\\users\\gubra\\appdata\\local\\programs\\python\\python312\\lib\\site-packages (from roboflow) (1.26.4)\n",
      "Collecting opencv-python-headless==4.10.0.84 (from roboflow)\n",
      "  Downloading opencv_python_headless-4.10.0.84-cp37-abi3-win_amd64.whl.metadata (20 kB)\n",
      "Requirement already satisfied: Pillow>=7.1.2 in c:\\users\\gubra\\appdata\\local\\programs\\python\\python312\\lib\\site-packages (from roboflow) (10.3.0)\n",
      "Requirement already satisfied: python-dateutil in c:\\users\\gubra\\appdata\\local\\programs\\python\\python312\\lib\\site-packages (from roboflow) (2.9.0.post0)\n",
      "Collecting python-dotenv (from roboflow)\n",
      "  Downloading python_dotenv-1.0.1-py3-none-any.whl.metadata (23 kB)\n",
      "Requirement already satisfied: requests in c:\\users\\gubra\\appdata\\local\\programs\\python\\python312\\lib\\site-packages (from roboflow) (2.32.3)\n",
      "Requirement already satisfied: six in c:\\users\\gubra\\appdata\\local\\programs\\python\\python312\\lib\\site-packages (from roboflow) (1.16.0)\n",
      "Requirement already satisfied: urllib3>=1.26.6 in c:\\users\\gubra\\appdata\\local\\programs\\python\\python312\\lib\\site-packages (from roboflow) (2.2.2)\n",
      "Requirement already satisfied: tqdm>=4.41.0 in c:\\users\\gubra\\appdata\\local\\programs\\python\\python312\\lib\\site-packages (from roboflow) (4.66.4)\n",
      "Requirement already satisfied: PyYAML>=5.3.1 in c:\\users\\gubra\\appdata\\local\\programs\\python\\python312\\lib\\site-packages (from roboflow) (6.0.1)\n",
      "Collecting requests-toolbelt (from roboflow)\n",
      "  Downloading requests_toolbelt-1.0.0-py2.py3-none-any.whl.metadata (14 kB)\n",
      "Collecting python-magic (from roboflow)\n",
      "  Downloading python_magic-0.4.27-py2.py3-none-any.whl.metadata (5.8 kB)\n",
      "Requirement already satisfied: colorama in c:\\users\\gubra\\appdata\\local\\programs\\python\\python312\\lib\\site-packages (from tqdm>=4.41.0->roboflow) (0.4.6)\n",
      "Requirement already satisfied: contourpy>=1.0.1 in c:\\users\\gubra\\appdata\\local\\programs\\python\\python312\\lib\\site-packages (from matplotlib->roboflow) (1.2.1)\n",
      "Requirement already satisfied: fonttools>=4.22.0 in c:\\users\\gubra\\appdata\\local\\programs\\python\\python312\\lib\\site-packages (from matplotlib->roboflow) (4.51.0)\n",
      "Requirement already satisfied: packaging>=20.0 in c:\\users\\gubra\\appdata\\local\\programs\\python\\python312\\lib\\site-packages (from matplotlib->roboflow) (24.0)\n",
      "Requirement already satisfied: pyparsing>=2.3.1 in c:\\users\\gubra\\appdata\\local\\programs\\python\\python312\\lib\\site-packages (from matplotlib->roboflow) (3.1.2)\n",
      "Requirement already satisfied: charset-normalizer<4,>=2 in c:\\users\\gubra\\appdata\\local\\programs\\python\\python312\\lib\\site-packages (from requests->roboflow) (3.3.2)\n",
      "Downloading roboflow-1.1.33-py3-none-any.whl (75 kB)\n",
      "   ---------------------------------------- 0.0/75.6 kB ? eta -:--:--\n",
      "   ---------------------------------------- 75.6/75.6 kB 4.4 MB/s eta 0:00:00\n",
      "Downloading chardet-4.0.0-py2.py3-none-any.whl (178 kB)\n",
      "   ---------------------------------------- 0.0/178.7 kB ? eta -:--:--\n",
      "   ---------------------------------------- 178.7/178.7 kB 5.4 MB/s eta 0:00:00\n",
      "Downloading opencv_python_headless-4.10.0.84-cp37-abi3-win_amd64.whl (38.8 MB)\n",
      "   ---------------------------------------- 0.0/38.8 MB ? eta -:--:--\n",
      "    --------------------------------------- 0.8/38.8 MB 15.9 MB/s eta 0:00:03\n",
      "   --- ------------------------------------ 2.9/38.8 MB 31.0 MB/s eta 0:00:02\n",
      "   ------ --------------------------------- 6.2/38.8 MB 44.0 MB/s eta 0:00:01\n",
      "   --------- ------------------------------ 9.5/38.8 MB 50.7 MB/s eta 0:00:01\n",
      "   ------------ --------------------------- 12.3/38.8 MB 72.6 MB/s eta 0:00:01\n",
      "   ------------ --------------------------- 12.3/38.8 MB 72.6 MB/s eta 0:00:01\n",
      "   ------------ --------------------------- 12.3/38.8 MB 72.6 MB/s eta 0:00:01\n",
      "   ------------ --------------------------- 12.3/38.8 MB 72.6 MB/s eta 0:00:01\n",
      "   ------------- -------------------------- 13.5/38.8 MB 32.8 MB/s eta 0:00:01\n",
      "   ------------------ --------------------- 17.5/38.8 MB 34.4 MB/s eta 0:00:01\n",
      "   -------------------- ------------------- 19.7/38.8 MB 32.8 MB/s eta 0:00:01\n",
      "   ---------------------- ----------------- 21.6/38.8 MB 29.7 MB/s eta 0:00:01\n",
      "   ------------------------- -------------- 24.6/38.8 MB 65.6 MB/s eta 0:00:01\n",
      "   ---------------------------- ----------- 27.8/38.8 MB 59.5 MB/s eta 0:00:01\n",
      "   ------------------------------- -------- 30.9/38.8 MB 72.6 MB/s eta 0:00:01\n",
      "   ----------------------------------- ---- 34.3/38.8 MB 73.1 MB/s eta 0:00:01\n",
      "   -------------------------------------- - 37.1/38.8 MB 65.6 MB/s eta 0:00:01\n",
      "   ---------------------------------------  38.7/38.8 MB 72.6 MB/s eta 0:00:01\n",
      "   ---------------------------------------  38.7/38.8 MB 72.6 MB/s eta 0:00:01\n",
      "   ---------------------------------------- 38.8/38.8 MB 40.9 MB/s eta 0:00:00\n",
      "Downloading python_dotenv-1.0.1-py3-none-any.whl (19 kB)\n",
      "Downloading python_magic-0.4.27-py2.py3-none-any.whl (13 kB)\n",
      "Downloading requests_toolbelt-1.0.0-py2.py3-none-any.whl (54 kB)\n",
      "   ---------------------------------------- 0.0/54.5 kB ? eta -:--:--\n",
      "   ---------------------------------------- 54.5/54.5 kB 2.9 MB/s eta 0:00:00\n",
      "Installing collected packages: python-magic, python-dotenv, opencv-python-headless, chardet, requests-toolbelt, roboflow\n",
      "Successfully installed chardet-4.0.0 opencv-python-headless-4.10.0.84 python-dotenv-1.0.1 python-magic-0.4.27 requests-toolbelt-1.0.0 roboflow-1.1.33\n"
     ]
    },
    {
     "name": "stderr",
     "output_type": "stream",
     "text": [
      "\n",
      "[notice] A new release of pip is available: 24.0 -> 24.1\n",
      "[notice] To update, run: python.exe -m pip install --upgrade pip\n"
     ]
    }
   ],
   "source": [
    "!pip install roboflow"
   ]
  },
  {
   "cell_type": "code",
   "execution_count": null,
   "metadata": {},
   "outputs": [],
   "source": []
  },
  {
   "cell_type": "markdown",
   "metadata": {},
   "source": [
    "## Get Dataset"
   ]
  },
  {
   "cell_type": "code",
   "execution_count": 3,
   "metadata": {},
   "outputs": [
    {
     "name": "stdout",
     "output_type": "stream",
     "text": [
      "loading Roboflow workspace...\n",
      "loading Roboflow project...\n"
     ]
    }
   ],
   "source": [
    "from roboflow import Roboflow\n",
    "rf = Roboflow(api_key=\"KbqDgq0qDvRfAnpXaFFh\")\n",
    "project = rf.workspace(\"roboflow-jvuqo\").project(\"football-players-detection-3zvbc\")\n",
    "version = project.version(1)\n",
    "dataset = version.download(\"yolov5\")\n"
   ]
  },
  {
   "cell_type": "code",
   "execution_count": 13,
   "metadata": {},
   "outputs": [
    {
     "data": {
      "text/plain": [
       "'c:\\\\Users\\\\gubra\\\\OneDrive\\\\Skrivbord\\\\ping pong\\\\match analysis\\\\training\\\\football-players-detection-1'"
      ]
     },
     "execution_count": 13,
     "metadata": {},
     "output_type": "execute_result"
    }
   ],
   "source": [
    "dataset.location"
   ]
  },
  {
   "cell_type": "code",
   "execution_count": 18,
   "metadata": {},
   "outputs": [
    {
     "data": {
      "text/plain": [
       "'fotball-players-detection-1/fotball-players-detection-1/train'"
      ]
     },
     "execution_count": 18,
     "metadata": {},
     "output_type": "execute_result"
    }
   ],
   "source": [
    "import shutil\n",
    "shutil.move('football-players-detection-1/train',\n",
    "            'fotball-players-detection-1/fotball-players-detection-1/train')\n",
    "\n"
   ]
  },
  {
   "cell_type": "code",
   "execution_count": 17,
   "metadata": {},
   "outputs": [
    {
     "data": {
      "text/plain": [
       "'football-players-detection-1/football-players-detection-1/valid'"
      ]
     },
     "execution_count": 17,
     "metadata": {},
     "output_type": "execute_result"
    }
   ],
   "source": [
    "shutil.move('football-players-detection-1/test',\n",
    "            'football-players-detection-1/football-players-detection-1/test')\n",
    "\n",
    "shutil.move('football-players-detection-1/valid',\n",
    "            'football-players-detection-1/football-players-detection-1/valid')"
   ]
  },
  {
   "cell_type": "code",
   "execution_count": 22,
   "metadata": {},
   "outputs": [
    {
     "data": {
      "text/plain": [
       "'c:\\\\Users\\\\gubra\\\\OneDrive\\\\Skrivbord\\\\ping pong\\\\match analysis\\\\training\\\\football-players-detection-1'"
      ]
     },
     "execution_count": 22,
     "metadata": {},
     "output_type": "execute_result"
    }
   ],
   "source": [
    "dataset.location"
   ]
  },
  {
   "cell_type": "markdown",
   "metadata": {},
   "source": [
    "### training"
   ]
  },
  {
   "cell_type": "code",
   "execution_count": 25,
   "metadata": {},
   "outputs": [
    {
     "name": "stderr",
     "output_type": "stream",
     "text": [
      "Traceback (most recent call last):\n",
      "  File \"<frozen runpy>\", line 198, in _run_module_as_main\n",
      "  File \"<frozen runpy>\", line 88, in _run_code\n",
      "  File \"C:\\Users\\gubra\\AppData\\Local\\Programs\\Python\\Python312\\Scripts\\yolo.exe\\__main__.py\", line 7, in <module>\n",
      "  File \"C:\\Users\\gubra\\AppData\\Local\\Programs\\Python\\Python312\\Lib\\site-packages\\ultralytics\\cfg\\__init__.py\", line 521, in entrypoint\n",
      "    check_dict_alignment(full_args_dict, {a: \"\"})\n",
      "  File \"C:\\Users\\gubra\\AppData\\Local\\Programs\\Python\\Python312\\Lib\\site-packages\\ultralytics\\cfg\\__init__.py\", line 331, in check_dict_alignment\n",
      "    raise SyntaxError(string + CLI_HELP_MSG) from e\n",
      "SyntaxError: '\u001b[31m\u001b[1mpong\\match\u001b[0m' is not a valid YOLO argument. \n",
      "\n",
      "    Arguments received: ['yolo', 'task=detect', 'model=yolov8x.pt', 'data=c:\\\\Users\\\\gubra\\\\OneDrive\\\\Skrivbord\\\\ping', 'pong\\\\match', 'analysis\\\\training\\\\football-players-detection-1/data.yaml', 'epochs=100', 'imgsz=640']. Ultralytics 'yolo' commands use the following syntax:\n",
      "\n",
      "        yolo TASK MODE ARGS\n",
      "\n",
      "        Where   TASK (optional) is one of {'classify', 'obb', 'detect', 'pose', 'segment'}\n",
      "                MODE (required) is one of {'predict', 'export', 'track', 'benchmark', 'val', 'train'}\n",
      "                ARGS (optional) are any number of custom 'arg=value' pairs like 'imgsz=320' that override defaults.\n",
      "                    See all ARGS at https://docs.ultralytics.com/usage/cfg or with 'yolo cfg'\n",
      "\n",
      "    1. Train a detection model for 10 epochs with an initial learning_rate of 0.01\n",
      "        yolo train data=coco8.yaml model=yolov8n.pt epochs=10 lr0=0.01\n",
      "\n",
      "    2. Predict a YouTube video using a pretrained segmentation model at image size 320:\n",
      "        yolo predict model=yolov8n-seg.pt source='https://youtu.be/LNwODJXcvt4' imgsz=320\n",
      "\n",
      "    3. Val a pretrained detection model at batch-size 1 and image size 640:\n",
      "        yolo val model=yolov8n.pt data=coco8.yaml batch=1 imgsz=640\n",
      "\n",
      "    4. Export a YOLOv8n classification model to ONNX format at image size 224 by 128 (no TASK required)\n",
      "        yolo export model=yolov8n-cls.pt format=onnx imgsz=224,128\n",
      "\n",
      "    6. Explore your datasets using semantic search and SQL with a simple GUI powered by Ultralytics Explorer API\n",
      "        yolo explorer\n",
      "\n",
      "    5. Run special commands:\n",
      "        yolo help\n",
      "        yolo checks\n",
      "        yolo version\n",
      "        yolo settings\n",
      "        yolo copy-cfg\n",
      "        yolo cfg\n",
      "\n",
      "    Docs: https://docs.ultralytics.com\n",
      "    Community: https://community.ultralytics.com\n",
      "    GitHub: https://github.com/ultralytics/ultralytics\n",
      "    \n"
     ]
    }
   ],
   "source": [
    "!yolo task=detect model=yolov8x.pt data={dataset.location}/data.yaml epochs=100 imgsz=640"
   ]
  },
  {
   "cell_type": "code",
   "execution_count": null,
   "metadata": {},
   "outputs": [],
   "source": []
  },
  {
   "cell_type": "code",
   "execution_count": null,
   "metadata": {},
   "outputs": [],
   "source": []
  },
  {
   "cell_type": "code",
   "execution_count": null,
   "metadata": {},
   "outputs": [],
   "source": []
  }
 ],
 "metadata": {
  "kernelspec": {
   "display_name": "Python 3",
   "language": "python",
   "name": "python3"
  },
  "language_info": {
   "codemirror_mode": {
    "name": "ipython",
    "version": 3
   },
   "file_extension": ".py",
   "mimetype": "text/x-python",
   "name": "python",
   "nbconvert_exporter": "python",
   "pygments_lexer": "ipython3",
   "version": "3.12.2"
  }
 },
 "nbformat": 4,
 "nbformat_minor": 2
}
